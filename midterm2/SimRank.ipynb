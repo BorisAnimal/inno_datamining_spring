{
 "cells": [
  {
   "cell_type": "markdown",
   "metadata": {},
   "source": [
    "# SimRank (15 - 30 pts)"
   ]
  },
  {
   "cell_type": "markdown",
   "metadata": {},
   "source": [
    "### 1. Explain SimRank"
   ]
  },
  {
   "cell_type": "markdown",
   "metadata": {},
   "source": [
    "Из http://resources.mpi-inf.mpg.de/d5/teaching/ws08_09/dbs/talks/AlekhJindal.pdf"
   ]
  },
  {
   "cell_type": "markdown",
   "metadata": {},
   "source": [
    "### \"Idea: Two objects are similar if they are referenced by similar objects\"\n"
   ]
  },
  {
   "cell_type": "markdown",
   "metadata": {},
   "source": [
    "- Provide formulas via tex code\n",
    "- Provide your text explanation\n",
    "- Provide your plot demonstration"
   ]
  },
  {
   "cell_type": "markdown",
   "metadata": {},
   "source": [
    "### 2. Explain Jaccard"
   ]
  },
  {
   "cell_type": "markdown",
   "metadata": {},
   "source": [
    "- Provide formulas via tex code\n",
    "- Provide your text explanation\n",
    "- Provide your plot demonstration"
   ]
  },
  {
   "cell_type": "markdown",
   "metadata": {},
   "source": [
    "### 3. Given Data"
   ]
  },
  {
   "cell_type": "markdown",
   "metadata": {},
   "source": [
    "![pic](graph.jpg)"
   ]
  },
  {
   "cell_type": "markdown",
   "metadata": {},
   "source": [
    "### 4. Implement SimRank"
   ]
  },
  {
   "cell_type": "code",
   "execution_count": 11,
   "metadata": {},
   "outputs": [],
   "source": [
    "import networkx as nx\n",
    "from matplotlib import pyplot as plt\n",
    "from collections import defaultdict\n",
    "import copy"
   ]
  },
  {
   "cell_type": "code",
   "execution_count": 39,
   "metadata": {},
   "outputs": [],
   "source": [
    "#### YOUR CODE HERE\n",
    "def simrank(G, r=0.9, max_iter=100):\n",
    "    # init. vars\n",
    "    sim_old = defaultdict(list)\n",
    "    sim = defaultdict(list)\n",
    "    \n",
    "    # sim - matrix of similarities. By default only diagonal is inited by 1s and all other elements 0s\n",
    "    # sim_old - matrix to check convergence. By default all zeros.\n",
    "    for n in G.nodes():\n",
    "        sim[n] = defaultdict(int)\n",
    "        sim[n][n] = 1\n",
    "        sim_old[n] = defaultdict(int)\n",
    "        sim_old[n][n] = 0\n",
    "\n",
    "    # recursively calculate simrank\n",
    "    for iter_ctr in range(max_iter):\n",
    "        if _is_converge(sim, sim_old):\n",
    "            break\n",
    "        sim_old = copy.deepcopy(sim)\n",
    "        for u in G.nodes():\n",
    "            for v in G.nodes():\n",
    "                if u == v:\n",
    "                      continue\n",
    "                s_uv = 0.0\n",
    "                for n_u in G.neighbors(u):\n",
    "                    for n_v in G.neighbors(v):\n",
    "                        s_uv += sim_old[n_u][n_v]\n",
    "                sim[u][v] = (r * s_uv / (len(list(G.neighbors(u))) * len(list(G.neighbors(v)))))\n",
    "        print(\"iteration #\", iter_ctr)\n",
    "        for i in range(1, 6):\n",
    "            print([\"%.3f\" % sim[i][j] for j in range(1,6)])\n",
    "    return sim\n",
    "\n",
    "def _is_converge(s1, s2, eps=1e-3):\n",
    "    for i in s1.keys():\n",
    "        for j in s1[i].keys():\n",
    "            if abs(s1[i][j] - s2[i][j]) >= eps:\n",
    "                return False\n",
    "    return True\n",
    "\n",
    "\n"
   ]
  },
  {
   "cell_type": "code",
   "execution_count": 7,
   "metadata": {},
   "outputs": [],
   "source": [
    "G = nx.Graph()\n",
    "G.add_edges_from([(0, 1), (0, 5), (0, 4), (0, 6),\n",
    "                  (1, 5), (1, 2),\n",
    "                  (2, 5), (2, 3),\n",
    "                  (3, 5), (3, 4), (3, 6),\n",
    "                  (5, 4),\n",
    "                  (6, 4), (6, 7), (6, 11), (6, 10),\n",
    "                  (7, 8), (7, 11), (7, 12),\n",
    "                  (8, 12), (8, 9),\n",
    "                  (9, 13), (9, 10), (9, 12),\n",
    "                  (10, 12), (10, 11),\n",
    "                  (11, 12)])"
   ]
  },
  {
   "cell_type": "markdown",
   "metadata": {},
   "source": [
    "### 4. Implement Jaccard"
   ]
  },
  {
   "cell_type": "code",
   "execution_count": 40,
   "metadata": {},
   "outputs": [
    {
     "name": "stdout",
     "output_type": "stream",
     "text": [
      "iteration # 0\n",
      "['1.000', '0.000', '0.000', '0.300', '0.000']\n",
      "['0.000', '1.000', '0.450', '0.000', '0.450']\n",
      "['0.000', '0.450', '1.000', '0.000', '0.450']\n",
      "['0.300', '0.000', '0.000', '1.000', '0.000']\n",
      "['0.000', '0.450', '0.450', '0.000', '1.000']\n",
      "iteration # 1\n",
      "['1.000', '0.000', '0.000', '0.570', '0.000']\n",
      "['0.000', '1.000', '0.585', '0.000', '0.585']\n",
      "['0.000', '0.585', '1.000', '0.000', '0.585']\n",
      "['0.570', '0.000', '0.000', '1.000', '0.000']\n",
      "['0.000', '0.585', '0.585', '0.000', '1.000']\n",
      "iteration # 2\n",
      "['1.000', '0.000', '0.000', '0.651', '0.000']\n",
      "['0.000', '1.000', '0.707', '0.000', '0.707']\n",
      "['0.000', '0.707', '1.000', '0.000', '0.707']\n",
      "['0.651', '0.000', '0.000', '1.000', '0.000']\n",
      "['0.000', '0.707', '0.707', '0.000', '1.000']\n",
      "iteration # 3\n",
      "['1.000', '0.000', '0.000', '0.724', '0.000']\n",
      "['0.000', '1.000', '0.743', '0.000', '0.743']\n",
      "['0.000', '0.743', '1.000', '0.000', '0.743']\n",
      "['0.724', '0.000', '0.000', '1.000', '0.000']\n",
      "['0.000', '0.743', '0.743', '0.000', '1.000']\n",
      "iteration # 4\n",
      "['1.000', '0.000', '0.000', '0.746', '0.000']\n",
      "['0.000', '1.000', '0.776', '0.000', '0.776']\n",
      "['0.000', '0.776', '1.000', '0.000', '0.776']\n",
      "['0.746', '0.000', '0.000', '1.000', '0.000']\n",
      "['0.000', '0.776', '0.776', '0.000', '1.000']\n",
      "iteration # 5\n",
      "['1.000', '0.000', '0.000', '0.765', '0.000']\n",
      "['0.000', '1.000', '0.786', '0.000', '0.786']\n",
      "['0.000', '0.786', '1.000', '0.000', '0.786']\n",
      "['0.765', '0.000', '0.000', '1.000', '0.000']\n",
      "['0.000', '0.786', '0.786', '0.000', '1.000']\n",
      "iteration # 6\n",
      "['1.000', '0.000', '0.000', '0.771', '0.000']\n",
      "['0.000', '1.000', '0.794', '0.000', '0.794']\n",
      "['0.000', '0.794', '1.000', '0.000', '0.794']\n",
      "['0.771', '0.000', '0.000', '1.000', '0.000']\n",
      "['0.000', '0.794', '0.794', '0.000', '1.000']\n",
      "iteration # 7\n",
      "['1.000', '0.000', '0.000', '0.777', '0.000']\n",
      "['0.000', '1.000', '0.797', '0.000', '0.797']\n",
      "['0.000', '0.797', '1.000', '0.000', '0.797']\n",
      "['0.777', '0.000', '0.000', '1.000', '0.000']\n",
      "['0.000', '0.797', '0.797', '0.000', '1.000']\n",
      "iteration # 8\n",
      "['1.000', '0.000', '0.000', '0.778', '0.000']\n",
      "['0.000', '1.000', '0.800', '0.000', '0.800']\n",
      "['0.000', '0.800', '1.000', '0.000', '0.800']\n",
      "['0.778', '0.000', '0.000', '1.000', '0.000']\n",
      "['0.000', '0.800', '0.800', '0.000', '1.000']\n",
      "iteration # 9\n",
      "['1.000', '0.000', '0.000', '0.780', '0.000']\n",
      "['0.000', '1.000', '0.800', '0.000', '0.800']\n",
      "['0.000', '0.800', '1.000', '0.000', '0.800']\n",
      "['0.780', '0.000', '0.000', '1.000', '0.000']\n",
      "['0.000', '0.800', '0.800', '0.000', '1.000']\n",
      "iteration # 10\n",
      "['1.000', '0.000', '0.000', '0.780', '0.000']\n",
      "['0.000', '1.000', '0.801', '0.000', '0.801']\n",
      "['0.000', '0.801', '1.000', '0.000', '0.801']\n",
      "['0.780', '0.000', '0.000', '1.000', '0.000']\n",
      "['0.000', '0.801', '0.801', '0.000', '1.000']\n"
     ]
    }
   ],
   "source": [
    "#### YOUR CODE HERE\n",
    "\n",
    "G = nx.Graph()\n",
    "G.add_edges_from([\n",
    "    (1,2), (1,3),\n",
    "    (2,4), (3,4),\n",
    "    (4,5)\n",
    "])\n",
    "\n",
    "tmp = simrank(G)\n",
    "# tmp\n"
   ]
  },
  {
   "cell_type": "code",
   "execution_count": 27,
   "metadata": {},
   "outputs": [
    {
     "name": "stdout",
     "output_type": "stream",
     "text": [
      "[1, 0.0, 0.0, 0.3, 0.0]\n",
      "[0.0, 1, 0.45, 0.0, 0.45]\n",
      "[0.0, 0.45, 1, 0.0, 0.45]\n",
      "[0.3, 0.0, 0.0, 1, 0.0]\n",
      "[0.0, 0.45, 0.45, 0.0, 1]\n"
     ]
    }
   ],
   "source": [
    "for i in range(1, 6):\n",
    "    print([tmp[i][j] for j in range(1,6)])"
   ]
  },
  {
   "cell_type": "markdown",
   "metadata": {},
   "source": [
    "### 4.Explain differences"
   ]
  },
  {
   "cell_type": "markdown",
   "metadata": {},
   "source": [
    "**Jaccard similarity** считает похожесть основываясь на **общих соседях**. \n",
    "\n",
    "**SimRank** также основывается на похожих соседях, но не просто на их наличии, но на похожести соседей. Потому что это итеративный алгоритм.\n",
    "\n",
    "Следствие №1)\n",
    "В обоих случаях вершины без общих соседей имеют score=0\n",
    "\n",
    "Следствие №2)\n",
    "SimRank считает похожесть \"все ко всем\"\n",
    "\n",
    "Следствие №3)\n",
    "SimRank имеет критерии сходимости"
   ]
  },
  {
   "cell_type": "code",
   "execution_count": null,
   "metadata": {},
   "outputs": [],
   "source": []
  },
  {
   "cell_type": "code",
   "execution_count": null,
   "metadata": {},
   "outputs": [],
   "source": []
  }
 ],
 "metadata": {
  "kernelspec": {
   "display_name": "Python 3",
   "language": "python",
   "name": "python3"
  },
  "language_info": {
   "codemirror_mode": {
    "name": "ipython",
    "version": 3
   },
   "file_extension": ".py",
   "mimetype": "text/x-python",
   "name": "python",
   "nbconvert_exporter": "python",
   "pygments_lexer": "ipython3",
   "version": "3.7.1"
  }
 },
 "nbformat": 4,
 "nbformat_minor": 2
}
